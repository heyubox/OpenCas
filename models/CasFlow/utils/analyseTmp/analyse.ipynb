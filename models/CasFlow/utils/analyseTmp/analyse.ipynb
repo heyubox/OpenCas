{
 "cells": [
  {
   "cell_type": "code",
   "execution_count": 2,
   "source": [
    "import pickle\n",
    "# dir = 'citation'\n",
    "dir = 'weibo1'\n",
    "\n",
    "\n",
    "data = pickle.load(open(\"/data/casflow/\"+dir+\"/cons.pkl\",'rb'))\n",
    "data.keys()"
   ],
   "outputs": [
    {
     "output_type": "execute_result",
     "data": {
      "text/plain": [
       "dict_keys(['con', 'true'])"
      ]
     },
     "metadata": {},
     "execution_count": 2
    }
   ],
   "metadata": {}
  },
  {
   "cell_type": "code",
   "execution_count": 3,
   "source": [
    "con = data['con']\n",
    "y = data['true']\n",
    "con.shape,y.shape"
   ],
   "outputs": [
    {
     "output_type": "execute_result",
     "data": {
      "text/plain": [
       "((15956, 320), (15956,))"
      ]
     },
     "metadata": {},
     "execution_count": 3
    }
   ],
   "metadata": {}
  },
  {
   "cell_type": "code",
   "execution_count": 4,
   "source": [
    "def invisible(ax):\n",
    "    # ax=plt.gca()  #gca:get current axis得到当前轴\n",
    "    #设置图片的右边框和上边框为不显示\n",
    "    ax.spines['right'].set_color('none')\n",
    "    ax.spines['top'].set_color('none')\n",
    "    ax.spines['left'].set_color('none')\n",
    "    ax.spines['bottom'].set_color('none')\n",
    "    ax.axes.get_yaxis().set_visible(False)\n",
    "    # x 轴不可见\n",
    "    ax.axes.get_xaxis().set_visible(False)"
   ],
   "outputs": [],
   "metadata": {}
  },
  {
   "cell_type": "code",
   "execution_count": 5,
   "source": [
    "import matplotlib.pyplot as plt\n",
    "from sklearn.utils import shuffle\n",
    "from sklearn.manifold import TSNE\n",
    "import numpy as np\n",
    "print(con.shape,y.shape)\n",
    "plt.close()\n",
    "invisible(plt.gca())\n",
    "Hs,Is = shuffle(con,np.log2(y))\n",
    "X = TSNE(n_components=2,random_state=42,learning_rate=25,n_iter=6000,verbose=1).fit_transform(Hs[:5000])\n",
    "sc = plt.scatter(X[:, 0], X[:, 1],s=1, c=Is[:5000], cmap='viridis_r')\n",
    "plt.colorbar(sc)\n",
    "plt.savefig(fname='graph_hidden-graph_size.png',dpi=600)"
   ],
   "outputs": [
    {
     "output_type": "stream",
     "name": "stdout",
     "text": [
      "(15956, 320) (15956,)\n",
      "[t-SNE] Computing 91 nearest neighbors...\n"
     ]
    },
    {
     "output_type": "stream",
     "name": "stderr",
     "text": [
      "/home/ta/anaconda3/lib/python3.6/site-packages/ipykernel_launcher.py:8: RuntimeWarning: divide by zero encountered in log2\n",
      "  \n"
     ]
    },
    {
     "output_type": "stream",
     "name": "stdout",
     "text": [
      "[t-SNE] Indexed 5000 samples in 0.248s...\n",
      "[t-SNE] Computed neighbors for 5000 samples in 21.200s...\n",
      "[t-SNE] Computed conditional probabilities for sample 1000 / 5000\n",
      "[t-SNE] Computed conditional probabilities for sample 2000 / 5000\n",
      "[t-SNE] Computed conditional probabilities for sample 3000 / 5000\n",
      "[t-SNE] Computed conditional probabilities for sample 4000 / 5000\n",
      "[t-SNE] Computed conditional probabilities for sample 5000 / 5000\n",
      "[t-SNE] Mean sigma: 1.080923\n",
      "[t-SNE] KL divergence after 250 iterations with early exaggeration: 76.892517\n"
     ]
    }
   ],
   "metadata": {}
  }
 ],
 "metadata": {
  "orig_nbformat": 4,
  "language_info": {
   "name": "python",
   "version": "3.6.2",
   "mimetype": "text/x-python",
   "codemirror_mode": {
    "name": "ipython",
    "version": 3
   },
   "pygments_lexer": "ipython3",
   "nbconvert_exporter": "python",
   "file_extension": ".py"
  },
  "kernelspec": {
   "name": "python3",
   "display_name": "Python 3.6.2 64-bit ('base': conda)"
  },
  "interpreter": {
   "hash": "50a9721e009ea04b57a16cc66bbe10ba764922a3928e20a70e7bd5160a15a3be"
  }
 },
 "nbformat": 4,
 "nbformat_minor": 2
}