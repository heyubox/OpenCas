{
 "cells": [
  {
   "cell_type": "code",
   "execution_count": 20,
   "metadata": {},
   "outputs": [],
   "source": [
    "import re\n",
    "file = open(\"/home/yuhang/open-cas/models/cas2vec/logFile/non-rnn/3600_1.non-rnn.log\",'r')\n",
    "text = file.read()\n",
    "# for line in file:\n",
    "    \n",
    "#     if 'average test loss' in line:\n",
    "#         print(line)\n",
    "pattern = re.compile(r'(?:average test loss )\\d+\\.?\\d*')\n",
    "test_text=pattern.findall(text)\n",
    "test_loss = [float(i[-6:]) for i in test_text]\n",
    "# test_test[0][-6:]\n",
    "# ['loss=0.20478513836860657', 'loss=0.767241849151384']\n",
    "pattern = re.compile(r'(?:average val loss )\\d+\\.?\\d*')\n",
    "val_text = pattern.findall(text)\n",
    "val_loss = [float(i[-6:]) for i in val_text]\n",
    "\n",
    "pattern = re.compile(r'(?:average train loss )\\d+\\.?\\d*')\n",
    "train_text = pattern.findall(text)\n",
    "train_loss = [float(i[-6:]) for i in train_text]\n",
    "import numpy as np\n",
    "t = np.array(train_loss)\n",
    "train_loss=t.reshape(-1, 6)[:, -1].tolist()\n"
   ]
  },
  {
   "cell_type": "code",
   "execution_count": 21,
   "metadata": {},
   "outputs": [],
   "source": [
    "loss_dict = {\"train\": train_loss, \"val\": val_loss, \"test\": test_loss,\n",
    "             'text': \"remove rnn\"}\n",
    "save_num = 7\n",
    "save_loss = \"loss{}.pkl\".format(save_num)\n",
    "import pickle\n",
    "pickle.dump(loss_dict,open(save_loss, 'wb'))"
   ]
  }
 ],
 "metadata": {
  "interpreter": {
   "hash": "6359a21e0c31af2f5c231d225d86f90041ae613827462bafa4edf2f080d6b115"
  },
  "kernelspec": {
   "display_name": "Python 3.7.11 64-bit ('tc': conda)",
   "language": "python",
   "name": "python3"
  },
  "language_info": {
   "codemirror_mode": {
    "name": "ipython",
    "version": 3
   },
   "file_extension": ".py",
   "mimetype": "text/x-python",
   "name": "python",
   "nbconvert_exporter": "python",
   "pygments_lexer": "ipython3",
   "version": "3.7.11"
  },
  "orig_nbformat": 4
 },
 "nbformat": 4,
 "nbformat_minor": 2
}
