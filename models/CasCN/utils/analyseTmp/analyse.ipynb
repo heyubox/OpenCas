{
 "cells": [
  {
   "cell_type": "code",
   "execution_count": null,
   "source": [
    "def invisible(ax):\n",
    "    # ax=plt.gca()  #gca:get current axis得到当前轴\n",
    "    #设置图片的右边框和上边框为不显示\n",
    "    ax.spines['right'].set_color('none')\n",
    "    ax.spines['top'].set_color('none')\n",
    "    ax.spines['left'].set_color('none')\n",
    "    ax.spines['bottom'].set_color('none')\n",
    "    ax.axes.get_yaxis().set_visible(False)\n",
    "    # x 轴不可见\n",
    "    ax.axes.get_xaxis().set_visible(False)"
   ],
   "outputs": [],
   "metadata": {}
  },
  {
   "cell_type": "code",
   "execution_count": null,
   "source": [
    "import matplotlib.pyplot as plt\n",
    "import numpy as np\n",
    "import pickle\n",
    "from sklearn.manifold import TSNE\n",
    "data = pickle.load(open('ana.pkl','rb'))\n",
    "data.keys()"
   ],
   "outputs": [],
   "metadata": {}
  },
  {
   "cell_type": "code",
   "execution_count": null,
   "source": [
    "from tqdm import tqdm\n",
    "import time\n",
    "\n",
    "\n",
    "# print(os.getcwd())\n",
    "\n",
    "\n",
    "def get_hour(time_str, filename):\n",
    "    hour = None\n",
    "    try:\n",
    "        msg_time = int(time_str)\n",
    "        hour = time.strftime(\"%H\", time.localtime(msg_time))\n",
    "        hour = int(hour)\n",
    "    except:\n",
    "        if '170w' in filename:  # fixed in 11.15, however, in this way, more datasets will be removed\n",
    "            ts = time.strptime(time_str, '%Y-%m-%d-%H:%M:%S')\n",
    "            hour = ts.tm_hour\n",
    "        elif 'castle' in filename:\n",
    "            # for data castle weibo\n",
    "            hour = int(time_str[:2])\n",
    "        elif 'smp' in filename:\n",
    "            ts = time.strptime(time_str, '%Y-%m-%dT%H:%M:%S')\n",
    "            hour = ts.tm_hour\n",
    "        else:\n",
    "            print(time_str)\n",
    "            print('wrong time format')\n",
    "    return hour\n",
    "import networkx as nx\n",
    "def construct_G(filename='/home/ta/yh/open-cas/rawdata/dataset_weibo.txt'):\n",
    "    G = nx.DiGraph()\n",
    "    cascade_count={}\n",
    "    # filename='./dataset_citation.txt'\n",
    "    discard_midnight = 0\n",
    "    discard_outer = 0       \n",
    "    file = open(filename)\n",
    "    cascades_total = dict()\n",
    "    year_grow = dict()\n",
    "    num_lines = sum(1 for line in open(filename, 'r'))\n",
    "    for line in tqdm(file, total=num_lines):\n",
    "        parts = line.strip().split(\"\\t\")\n",
    "        if len(parts) != 5:\n",
    "            print('wrong format!')\n",
    "            continue\n",
    "        cascadeID = parts[0]\n",
    "        # print cascadeID\n",
    "        n_nodes = int(parts[3])\n",
    "\n",
    "        path = parts[4].split(\" \")\n",
    "        if n_nodes != len(path):\n",
    "            print(cascadeID,' wrong number of nodes', n_nodes, len(path),path)\n",
    "            exit(0)\n",
    "        # for p in path:\n",
    "        #     nodes = p.split(\":\")[0].split(\"/\")\n",
    "        #     time_ = int(int(p.split(\":\")[1]))\n",
    "        #     if time_<=3600:\n",
    "        #         num+=1\n",
    "        # if num>100 :\n",
    "        #     discard_outer+=1\n",
    "        #     continue\n",
    "        # if n_nodes<5 or n_nodes>100:\n",
    "        #     continue\n",
    "        hour = get_hour(parts[2], filename)\n",
    "        # to keep the same with\n",
    "        if hour <= 7 or hour >= 19:  # 8-18\n",
    "            discard_midnight += 1\n",
    "            continue\n",
    "        observation_path = []\n",
    "        # print(cascadeID)\n",
    "        for p in path:\n",
    "            nodes = p.split(\":\")[0].split(\"/\")\n",
    "            time_ = int(int(p.split(\":\")[1])/360)\n",
    "            try:\n",
    "                year_grow[time_]+=1\n",
    "            except:\n",
    "                year_grow[time_]=1\n",
    "            nodes_ok = True\n",
    "            for n in nodes:\n",
    "                if int(n) == -1:  # delete invalid id\n",
    "                    nodes_ok = False\n",
    "            if not (nodes_ok):\n",
    "                print(\"error id at cas_id {}\".format(cascadeID))\n",
    "                print(nodes)\n",
    "                continue\n",
    "            # print nodes\n",
    "            time_now = int(p.split(\":\")[1])\n",
    "\n",
    "            observation_path.append(\",\".join(nodes) + \":\" + str(time_now))\n",
    "            for i in range(1, len(nodes)):\n",
    "                G.add_edge(nodes[i - 1] , nodes[i])\n",
    "        cascades_total[cascadeID] = hour\n",
    "\n",
    "    n_total = len(cascades_total)\n",
    "    print(\"total_readin:\", num_lines)\n",
    "    print(\"discard_midnight:\", discard_midnight)\n",
    "    print(\"discard_outer:\", discard_outer)\n",
    "    print('total:', n_total)\n",
    "    # import operator\n",
    "    # sorted_msg_time = sorted(cascades_total.items(),\n",
    "    #                          key=operator.itemgetter(1))\n",
    "    # 计算每个节点的 PR 值，并作为节点的 pagerank 属性\n",
    "    print('computing pange rank')\n",
    "    pagerank = nx.pagerank(G)\n",
    "    # 将 pagerank 数值作为节点的属性\n",
    "    nx.set_node_attributes(G, name = 'pagerank', values=pagerank)\n",
    "    print('computing done')\n",
    "\n",
    "    return G\n",
    "    # 划分数据集\n",
    "G = construct_G('/home/ta/yh/open-cas/rawdata/dataset_citation.txt')\n",
    "page_rank = nx.get_node_attributes(G, \"pagerank\")\n",
    "# page_rank['1130594']"
   ],
   "outputs": [],
   "metadata": {}
  },
  {
   "cell_type": "code",
   "execution_count": 7,
   "source": [
    "gnn_o=data['gnn_o']\n",
    "X = []\n",
    "y = []\n",
    "nodeid = data['id']\n",
    "for index,batch_id in enumerate(nodeid):\n",
    "    step=len(batch_id)-1\n",
    "    emb = gnn_o[index][step][0]\n",
    "    for i,node_id in enumerate(batch_id):\n",
    "        X.append(emb[i])\n",
    "        y.append(page_rank[str(node_id)])\n"
   ],
   "outputs": [],
   "metadata": {}
  },
  {
   "cell_type": "code",
   "execution_count": 28,
   "source": [
    "avg = np.average(y)\n",
    "top = sorted(y,reverse=True)[int(len(y)*0.01)]\n",
    "sample = int(len(y)*0.01)\n",
    "print(sample)\n",
    "print(avg)\n",
    "label = []\n",
    "new_X = []\n",
    "for i,x in zip(y,X):\n",
    "    if i>top:\n",
    "        label.append(2)\n",
    "        new_X.append(x)\n",
    "    # elif i > avg*0.9:\n",
    "    #     label.append(1)\n",
    "    elif sample > 0:\n",
    "        sample-=1\n",
    "        label.append(0)\n",
    "        new_X.append(x)\n",
    "# X label\n",
    "label=np.array(label)\n",
    "np.sum(label==0),np.sum(label==1),np.sum(label==2)"
   ],
   "outputs": [
    {
     "output_type": "stream",
     "name": "stdout",
     "text": [
      "1873\n",
      "3.2269627339524915e-06\n"
     ]
    },
    {
     "output_type": "execute_result",
     "data": {
      "text/plain": [
       "(1873, 0, 1872)"
      ]
     },
     "metadata": {},
     "execution_count": 28
    }
   ],
   "metadata": {}
  },
  {
   "cell_type": "code",
   "execution_count": 31,
   "source": [
    "from sklearn.neural_network import MLPClassifier\n",
    "from sklearn.metrics import confusion_matrix\n",
    "\n",
    "from sklearn.datasets import make_classification\n",
    "from sklearn.model_selection import train_test_split\n",
    "X_train, X_test, y_train, y_test = train_test_split(new_X, label,test_size=0.25, stratify = label)\n",
    "clf = MLPClassifier(random_state=1, max_iter=300).fit(X_train, y_train)\n",
    "clf.predict_proba(X_test)\n",
    "clf.predict(X_test)\n",
    "mlp_predictions = clf.predict(X_test)\n",
    "cm = confusion_matrix(y_test, mlp_predictions)\n",
    "print(clf.score(X_test, y_test),cm)\n",
    "\n"
   ],
   "outputs": [
    {
     "output_type": "stream",
     "name": "stdout",
     "text": [
      "0.5368196371398078 [[ 48 421]\n",
      " [ 13 455]]\n"
     ]
    }
   ],
   "metadata": {}
  },
  {
   "cell_type": "code",
   "execution_count": null,
   "source": [
    "Ytest = np.array(data['Ytest'])\n",
    "Xtest = np.array(data['Xtest'])\n",
    "time = data['time']\n",
    "# Ytest = np.power(2,Ytest)\n",
    "# Hs = data['hidden_states']\n",
    "Hs = np.array(data['hidden_states']).reshape(-1,100,32)\n",
    "len(Ytest),Hs.shape\n",
    "# print(len(Hs[0][0][0]), len(Xtest[0]),len(time))"
   ],
   "outputs": [],
   "metadata": {}
  },
  {
   "cell_type": "code",
   "execution_count": null,
   "source": [
    "Hs.shape,Xtest.shape,Ytest.shape"
   ],
   "outputs": [],
   "metadata": {}
  },
  {
   "cell_type": "code",
   "execution_count": null,
   "source": [
    "h_size,g_size = [],[]\n",
    "for h in Hs:\n",
    "    size = 1\n",
    "    for step_h in h:\n",
    "        if step_h.all()!=0:\n",
    "            h_size.append(step_h)\n",
    "            g_size.append(size)\n",
    "            size+=1\n",
    "h_size = np.array(h_size)\n",
    "g_size = np.array(g_size)\n",
    "h_size.shape,g_size.shape"
   ],
   "outputs": [],
   "metadata": {}
  },
  {
   "cell_type": "code",
   "execution_count": null,
   "source": [
    "from sklearn.manifold import TSNE\n",
    "import matplotlib.pyplot as plt\n",
    "from sklearn.utils import shuffle\n",
    "plt.close()\n",
    "invisible(plt.gca())\n",
    "dHs,dIs = shuffle(h_size,g_size,random_state=42)\n",
    "X = TSNE(n_components=2,random_state=42,learning_rate=25,n_iter=6000,verbose=1).fit_transform(dHs[:80000])\n",
    "sc = plt.scatter(X[:, 0], X[:, 1],s=1, c=dIs[:80000], cmap='viridis_r')\n",
    "plt.colorbar(sc)\n",
    "plt.savefig('output-gz.png',dpi=600)"
   ],
   "outputs": [],
   "metadata": {}
  },
  {
   "cell_type": "code",
   "execution_count": null,
   "source": [
    "sum_pool_o = np.sum(Hs,axis=1)\n",
    "sum_pool_o.shape"
   ],
   "outputs": [],
   "metadata": {}
  },
  {
   "cell_type": "code",
   "execution_count": null,
   "source": [
    "from sklearn.manifold import TSNE\n",
    "import matplotlib.pyplot as plt\n",
    "from sklearn.utils import shuffle\n",
    "plt.close()\n",
    "invisible(plt.gca())\n",
    "\n",
    "dHs,dIs = shuffle(sum_pool_o,Ytest,random_state=42)\n",
    "X = TSNE(n_components=2,random_state=42,verbose=1).fit_transform(dHs[:10000])\n",
    "sc = plt.scatter(X[:, 0], X[:, 1],s=1, c=dIs[:10000], cmap='viridis_r')\n",
    "plt.colorbar(sc)\n",
    "plt.savefig('output-future_growth.png',dpi=600)"
   ],
   "outputs": [],
   "metadata": {}
  },
  {
   "cell_type": "code",
   "execution_count": null,
   "source": [],
   "outputs": [],
   "metadata": {}
  },
  {
   "cell_type": "code",
   "execution_count": null,
   "source": [
    "ob_time = 3600\n",
    "interval = 180\n",
    "hiddens  = []\n",
    "graph_size = []\n",
    "for hs,ts in zip(Hs,time):\n",
    "    for time_interval in range(180,3600+1,180):\n",
    "        size = 0\n",
    "        for idx,t in enumerate(ts):\n",
    "            \n",
    "            if t<time_interval :\n",
    "                size+=1\n",
    "            elif t>=time_interval:\n",
    "                hiddens.append(hs[idx-1])\n",
    "                graph_size.append(size)\n",
    "                break\n",
    "            if idx==len(ts)-1:\n",
    "                hiddens.append(hs[idx])\n",
    "                graph_size.append(size)\n",
    "                break\n",
    "\n",
    "            \n",
    "print(np.array(hiddens).shape)\n",
    "\n",
    "\n"
   ],
   "outputs": [],
   "metadata": {}
  },
  {
   "cell_type": "code",
   "execution_count": null,
   "source": [
    "hiddens = np.array(hiddens)\n",
    "graph_size = np.array(graph_size)\n",
    "print(hiddens.shape,graph_size.shape)"
   ],
   "outputs": [],
   "metadata": {}
  },
  {
   "cell_type": "code",
   "execution_count": null,
   "source": [
    "hidden_graph_size = []\n",
    "graph_size_size = []\n",
    "for gz,rnn_hidden in zip(graph_size.reshape(-1,20),hiddens.reshape(-1,20,32)):\n",
    "    hidden_graph_size.append(rnn_hidden[0])\n",
    "    graph_size_size.append(gz[0])\n",
    "    for i in range(len(gz[1:])):\n",
    "        if gz[i]==gz[i+1]:\n",
    "            continue\n",
    "        hidden_graph_size.append(rnn_hidden[i+1])\n",
    "        graph_size_size.append(gz[i+1])\n",
    "\n",
    "\n"
   ],
   "outputs": [],
   "metadata": {}
  },
  {
   "cell_type": "code",
   "execution_count": null,
   "source": [
    "from sklearn.utils import shuffle\n",
    "\n",
    "diff_inc,diff_hidden,hist_hidden = [],[],[]\n",
    "for inc,rnn_hidden in zip(graph_size.reshape(-1,20),hiddens.reshape(-1,20,32)):\n",
    "    print(inc)\n",
    "    diff_inc.append(inc[1:]-inc[:-1])\n",
    "    hist_hidden.append(rnn_hidden[:-1])\n",
    "    diff_hidden.append(rnn_hidden[1:]-rnn_hidden[:-1])\n",
    "diff_inc=np.array(diff_inc).reshape(-1)\n",
    "hist_hidden=np.array(hist_hidden).reshape(-1,32)\n",
    "diff_hidden=np.array(diff_hidden).reshape(-1,32)\n",
    "print(diff_inc.shape,hist_hidden.shape,diff_hidden.shape)\n",
    "# diff_hidden,diff_inc,hist_hidden=shuffle(diff_hidden,diff_inc,hist_hidden)\n",
    "print(diff_inc[:100])"
   ],
   "outputs": [],
   "metadata": {}
  },
  {
   "cell_type": "code",
   "execution_count": null,
   "source": [
    "np.max(diff_inc),np.min(diff_inc)"
   ],
   "outputs": [],
   "metadata": {}
  },
  {
   "cell_type": "code",
   "execution_count": null,
   "source": [
    "dHs,dIs = [],[]\n",
    "az = 0\n",
    "for h,i in zip(diff_hidden,diff_inc):\n",
    "    if i <=1:\n",
    "        continue\n",
    "    if h.all()==0:\n",
    "        az+=1\n",
    "        continue\n",
    "    dHs.append(h)\n",
    "    dIs.append(np.log2(i))\n",
    "dHs = np.array(dHs)\n",
    "dIs = np.array(dIs)\n",
    "print(len(dHs))\n",
    "print(az)"
   ],
   "outputs": [],
   "metadata": {}
  },
  {
   "cell_type": "code",
   "execution_count": null,
   "source": [
    "from sklearn.manifold import TSNE\n",
    "import matplotlib.pyplot as plt\n",
    "plt.close()\n",
    "print(len(dHs))\n",
    "invisible(plt.gca())\n",
    "\n",
    "dHs,dIs = shuffle(dHs,dIs,random_state=42)\n",
    "X = TSNE(n_components=2,random_state=42,verbose=1).fit_transform(dHs[:10000])\n",
    "sc = plt.scatter(X[:, 0], X[:, 1],s=1, c=dIs[:10000], cmap='viridis_r')\n",
    "plt.colorbar(sc)\n",
    "plt.savefig('diff.png',dpi=600)"
   ],
   "outputs": [],
   "metadata": {}
  },
  {
   "cell_type": "code",
   "execution_count": null,
   "source": [
    "diff_inc.min(),diff_inc.max()"
   ],
   "outputs": [],
   "metadata": {}
  }
 ],
 "metadata": {
  "interpreter": {
   "hash": "50a9721e009ea04b57a16cc66bbe10ba764922a3928e20a70e7bd5160a15a3be"
  },
  "kernelspec": {
   "name": "python3",
   "display_name": "Python 3.6.2 64-bit ('base': conda)"
  },
  "language_info": {
   "codemirror_mode": {
    "name": "ipython",
    "version": 3
   },
   "file_extension": ".py",
   "mimetype": "text/x-python",
   "name": "python",
   "nbconvert_exporter": "python",
   "pygments_lexer": "ipython3",
   "version": "3.6.2"
  }
 },
 "nbformat": 4,
 "nbformat_minor": 2
}